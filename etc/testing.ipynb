{
 "cells": [
  {
   "cell_type": "code",
   "execution_count": 1,
   "metadata": {},
   "outputs": [
    {
     "name": "stderr",
     "output_type": "stream",
     "text": [
      "/Users/diego/opt/miniconda3/lib/python3.9/site-packages/requests/__init__.py:102: RequestsDependencyWarning: urllib3 (1.26.12) or chardet (5.0.0)/charset_normalizer (2.0.4) doesn't match a supported version!\n",
      "  warnings.warn(\"urllib3 ({}) or chardet ({})/charset_normalizer ({}) doesn't match a supported \"\n"
     ]
    }
   ],
   "source": [
    "import json\n",
    "import requests\n",
    "import git\n",
    "import sys\n",
    "import os\n",
    "\n"
   ]
  },
  {
   "cell_type": "code",
   "execution_count": 15,
   "metadata": {},
   "outputs": [
    {
     "name": "stdout",
     "output_type": "stream",
     "text": [
      "[]\n",
      "['toml\\ndssim-core = { version = \"3.2\", default-features = false }\\n']\n",
      "[]\n"
     ]
    }
   ],
   "source": [
    "\n",
    "kws = ['pretrained','datasets','']\n",
    "\n",
    "# Setup and installation\n",
    "# Does the repo need to be cloned or can we use a package manager?\n",
    "with open('data.json') as f:\n",
    "    data = json.load(f)\n",
    "for repo_dir in os.listdir('./repos'):\n",
    "        repo_api_obj = [item for item in data if item['name'] == repo_dir][0]\n",
    "        repo = Repo(repo_dir,repo_api_obj['html_url'],repo_api_obj,topics=repo_api_obj['topics'])\n",
    "        setup = Setup()\n",
    "        repo_dir_path = os.path.join('./repos',repo_dir)\n",
    "        for file in os.listdir(repo_dir_path):\n",
    "            vscode_dir = enum_filename(os.path.join(repo_dir_path),'.vscode')\n",
    "            if len(vscode_dir) > 0:\n",
    "                print('Found vscode dir')\n",
    "                print(repo_dir)\n",
    "            py_files = enum_python_files(repo_dir_path)\n",
    "            \n",
    "\n",
    "            \n",
    "\n",
    "            \n",
    "    "
   ]
  }
 ],
 "metadata": {
  "kernelspec": {
   "display_name": "Python 3.9.13 ('base')",
   "language": "python",
   "name": "python3"
  },
  "language_info": {
   "codemirror_mode": {
    "name": "ipython",
    "version": 3
   },
   "file_extension": ".py",
   "mimetype": "text/x-python",
   "name": "python",
   "nbconvert_exporter": "python",
   "pygments_lexer": "ipython3",
   "version": "3.9.13"
  },
  "orig_nbformat": 4,
  "vscode": {
   "interpreter": {
    "hash": "07e32b4e09f7ac861b2bb9b40f78990119dc49f03567c590d1c82eddc7220e35"
   }
  }
 },
 "nbformat": 4,
 "nbformat_minor": 2
}
